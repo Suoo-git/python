{
 "cells": [
  {
   "attachments": {},
   "cell_type": "markdown",
   "metadata": {},
   "source": [
    "#### 전체 테이블 조회"
   ]
  },
  {
   "cell_type": "code",
   "execution_count": null,
   "metadata": {},
   "outputs": [],
   "source": [
    "import pymysql\n",
    "conn = pymysql.connect(\n",
    "host='127.0.0.1', user='root', password='wpdjvks1',\n",
    "db='quiz', charset='utf8'\n",
    ")\n",
    "cursor = conn.cursor()\n",
    "sql = '''\n",
    "SELECT * FROM quiz\n",
    "'''\n",
    "cursor.execute(sql)\n",
    "result = cursor.fetchall()\n",
    "for row in result:\n",
    "    print(row[2])\n",
    "\n",
    "cursor.close()\n",
    "conn.close()"
   ]
  },
  {
   "attachments": {},
   "cell_type": "markdown",
   "metadata": {},
   "source": [
    "#### 퀴즈 추가"
   ]
  },
  {
   "cell_type": "code",
   "execution_count": null,
   "metadata": {},
   "outputs": [],
   "source": [
    "import pymysql\n",
    "\n",
    "quiz_name = input(\"quiz_name : \")       # 질문\n",
    "quiz_answer = input(\"quiz answer : \")   # 답\n",
    "\n",
    "conn = pymysql.connect(\n",
    "host='127.0.0.1', user='root', password='wpdjvks1',\n",
    "db='quiz', charset='utf8'\n",
    ")\n",
    "cursor = conn.cursor()\n",
    "sql = '''\n",
    "insert into quiz (quiz_name, quiz_answer)\n",
    "    values (%s, %s)\n",
    "'''\n",
    "cursor.execute(sql, (quiz_name, 'EX'))  # <퀴즈와 답\n",
    "conn.commit()\n",
    "cursor.close()\n",
    "conn.close()"
   ]
  },
  {
   "cell_type": "code",
   "execution_count": null,
   "metadata": {},
   "outputs": [],
   "source": [
    "def update_quiz():\n",
    "    quiz_name = input(\"quiz_name : \")       # 질문\n",
    "    quiz_answer = input(\"quiz answer : \")   # 답\n",
    "    ql = '''\n",
    "    insert into quiz (quiz_name, quiz_answer)\n",
    "        values (%s, %s)\n",
    "    '''\n",
    "    cursor.execute(sql, (quiz_name, quiz_answer))\n",
    "    conn.commit()"
   ]
  },
  {
   "attachments": {},
   "cell_type": "markdown",
   "metadata": {},
   "source": [
    "#### 회원가입"
   ]
  },
  {
   "cell_type": "code",
   "execution_count": null,
   "metadata": {},
   "outputs": [],
   "source": [
    "import pymysql\n",
    "conn = pymysql.connect(\n",
    "host='127.0.0.1', user='root', password='wpdjvks1',\n",
    "db='quiz', charset='utf8'\n",
    ")\n",
    "def con():\n",
    "    user_id = input(\"ID : \")\n",
    "    user_pw = input(\"PW : \")\n",
    "    cursor = conn.cursor()\n",
    "    sql = '''\n",
    "    insert into user (user_id, user_score, user_pw, playTime)\n",
    "        values (%s, %s, %s, %s)\n",
    "    '''\n",
    "    cursor.execute(sql, (user_id, 0, user_pw, 0))\n",
    "    conn.commit()\n",
    "    cursor.close()\n",
    "    conn.close()\n",
    "con()"
   ]
  },
  {
   "cell_type": "code",
   "execution_count": null,
   "metadata": {},
   "outputs": [],
   "source": [
    "import pymysql \n",
    "\n",
    "conn = pymysql.connect(\n",
    "host='10.10.21.39', user='root', password='wpdjvks1',\n",
    "db='quiz', charset='utf8')\n",
    "    \n",
    "def disconn():\n",
    "    conn.close()\n",
    "\n",
    "def sign_up():\n",
    "    id = input(\"ID : \")\n",
    "    pw = input(\"PW : \")\n",
    "    cursor = conn.cursor()\n",
    "    sql = '''\n",
    "    INSERT INTO user (user_id, user_score, user_pw, playTime)\n",
    "    values (%s, %s, %s, %s)\n",
    "    '''\n",
    "    cursor.execute(sql, (id, 0, pw, 0))\n",
    "    conn.commit()\n",
    "    cursor.close()\n",
    "    disconn()\n",
    "sign_up()"
   ]
  },
  {
   "attachments": {},
   "cell_type": "markdown",
   "metadata": {},
   "source": [
    "#### 퀴즈 맞추기 확인"
   ]
  },
  {
   "cell_type": "code",
   "execution_count": null,
   "metadata": {},
   "outputs": [],
   "source": [
    "import pymysql\n",
    "import time\n",
    "import random\n",
    "\n",
    "conn = pymysql.connect(\n",
    "host='127.0.0.1', user='root', password='wpdjvks1',\n",
    "db='quiz', charset='utf8')\n",
    "cursor = conn.cursor()\n",
    "\n",
    "sql = '''\n",
    "SELECT * from quiz\n",
    "'''\n",
    "cursor.execute(sql)\n",
    "result = cursor.fetchall()\n",
    "Time = 0\n",
    "  # 랜덤으로 질분을 뽑고\n",
    "while True:\n",
    "    start_time = time.time()\n",
    "    random_num = random.randrange(0, len(result))\n",
    "    quiz_name = result[random_num][1]\n",
    "    quiz_answer = result[random_num][2]\n",
    "    print(quiz_name)                    # 퀴즈 출력\n",
    "\n",
    "    answer = input(\"answer : \")\n",
    "    if answer ==  quiz_answer:  \n",
    "        # 질문이 맞으면 correct 틀리면 not\n",
    "        print(\"correct\")\n",
    "    else:\n",
    "        print(\"not\")\n",
    "\n",
    "    end_time = time.time()\n",
    "    Time = Time + (end_time - start_time)\n",
    "    if Time > 10 : \n",
    "        break    \n",
    "    print(\"정답 시간 : \", round(end_time - start_time),'초')\n",
    "print(\"시간이 초과했습니다.\")\n",
    "cursor.close()\n",
    "conn.close()"
   ]
  },
  {
   "attachments": {},
   "cell_type": "markdown",
   "metadata": {},
   "source": [
    "#### 랭킹 확인"
   ]
  },
  {
   "cell_type": "code",
   "execution_count": null,
   "metadata": {},
   "outputs": [],
   "source": [
    "import pymysql\n",
    "conn = pymysql.connect(\n",
    "host='127.0.0.1', user='root', password='wpdjvks1',\n",
    "db='quiz', charset='utf8'\n",
    ")\n",
    "cursor = conn.cursor(pymysql.cursors.DictCursor)\n",
    "sql = '''\n",
    "SELECT * FROM user\n",
    "'''\n",
    "cursor.execute(sql)\n",
    "result = cursor.fetchall()\n",
    "d = {}\n",
    "for row in result:\n",
    "    user_id = row['user_id']\n",
    "    user_score = row['user_score']\n",
    "    d[user_score] = user_id\n",
    "    # print(user_id, user_score)\n",
    "d1 = sorted(d.items(), reverse=True)\n",
    "count = 1\n",
    "print(\"순위  아이디  점수\")\n",
    "for i in d1:\n",
    "    # print(count, i[0], i[1])\n",
    "    # print(f'{count}     {i[1]}    {i[0]}')\n",
    "    print('%-5d' %count, '%-7s' %i[1], i[0])\n",
    "    count +=1\n",
    "    if count == 6:\n",
    "        break\n",
    "# for row in result:\n",
    "#     print(row)\n",
    "\n",
    "cursor.close()\n",
    "conn.close()"
   ]
  },
  {
   "cell_type": "code",
   "execution_count": null,
   "metadata": {},
   "outputs": [],
   "source": [
    "import pymysql\n",
    "conn = pymysql.connect(\n",
    "host='10.10.21.39', user='root', password='wpdjvks1',\n",
    "db='quiz', charset='utf8'\n",
    ")\n",
    "def rank():\n",
    "    cursor = conn.cursor(pymysql.cursors.DictCursor)\n",
    "    sql = '''\n",
    "    SELECT * FROM user\n",
    "    '''\n",
    "    cursor.execute(sql)\n",
    "    result = cursor.fetchall()\n",
    "    d = {}\n",
    "    for row in result:\n",
    "        user_id = row['user_id']\n",
    "        user_score = row['user_score']\n",
    "        d[user_score] = user_id\n",
    "    d1 = sorted(d.items(), reverse=True)\n",
    "    count = 1\n",
    "    print(\"순위  아이디  점수\")\n",
    "    for i in d1:\n",
    "        print('%-5d' %count, '%-7s' %i[1], i[0])\n",
    "        count +=1\n",
    "        if count == 6:\n",
    "            break    \n",
    "rank()"
   ]
  },
  {
   "attachments": {},
   "cell_type": "markdown",
   "metadata": {},
   "source": [
    "### 회원가입 - 정규표현식(유효성 체크)"
   ]
  },
  {
   "cell_type": "code",
   "execution_count": 56,
   "metadata": {},
   "outputs": [
    {
     "name": "stdout",
     "output_type": "stream",
     "text": [
      "False id\n"
     ]
    }
   ],
   "source": [
    "import pymysql\n",
    "import re\n",
    "def cheak_id(id): #아이디 정규표현식\n",
    "    result = True\n",
    "    reg = r'[A-za-z0-9]{4,10}$'\n",
    "    if not re.search(reg, id):\n",
    "        print(\"False id\")\n",
    "        result = False\n",
    "    return result\n",
    "\n",
    "def cheak_pw(pw):\n",
    "    result = True\n",
    "    reg = '[A-z]{6,10}' # 패스워드 조건 추가\n",
    "    if not re.search(reg, pw):\n",
    "        print(\"False pw\")\n",
    "        result = False\n",
    "    return result\n",
    "\n",
    "conn = pymysql.connect(\n",
    "host='127.0.0.1', user='root', password='wpdjvks1',\n",
    "db='quiz', charset='utf8'\n",
    ")\n",
    "cursor = conn.cursor()\n",
    "\n",
    "user_id = input(\"ID : \")\n",
    "if cheak_id(user_id):\n",
    "    sql = '''\n",
    "    insert into user (user_id, user_score, user_pw)\n",
    "        values (%s, %s, %s)\n",
    "    '''\n",
    "    cursor.execute(sql, (user_id,0,0))\n",
    "    conn.commit()\n",
    "cursor.close()\n",
    "conn.close()"
   ]
  },
  {
   "attachments": {},
   "cell_type": "markdown",
   "metadata": {},
   "source": [
    "#### 로그인"
   ]
  },
  {
   "cell_type": "code",
   "execution_count": null,
   "metadata": {},
   "outputs": [],
   "source": [
    "import pymysql\n",
    "conn = pymysql.connect(\n",
    "host='127.0.0.1', user='root', password='wpdjvks1',\n",
    "db='quiz', charset='utf8'\n",
    ")\n",
    "cursor = conn.cursor()\n",
    "sql = '''\n",
    "SELECT * FROM user\n",
    "'''\n",
    "cursor.execute(sql)\n",
    "result = cursor.fetchall()\n",
    "for row in result:\n",
    "    print(row[0], row[1], row[2])\n",
    "\n",
    "cursor.close()\n",
    "conn.close()"
   ]
  },
  {
   "cell_type": "code",
   "execution_count": null,
   "metadata": {},
   "outputs": [],
   "source": [
    "import pymysql\n",
    "conn = pymysql.connect(\n",
    "host='127.0.0.1', user='root', password='wpdjvks1',\n",
    "db='quiz', charset='utf8'\n",
    ")\n",
    "def login():\n",
    "    try:\n",
    "        user_id = input(\"ID : \")\n",
    "        cursor = conn.cursor()\n",
    "        sql = '''\n",
    "        select * from user where user_id=%s\n",
    "        '''\n",
    "        cursor.execute(sql, user_id)\n",
    "        row = cursor.fetchone()\n",
    "        user_pw = input(\"PW : \")\n",
    "        if row[2] == user_pw:\n",
    "            print(\"success login\")\n",
    "        else:\n",
    "            print(\"False PW\")\n",
    "    except:\n",
    "        print(\"None ID\")\n",
    "\n",
    "        \n",
    "login()"
   ]
  },
  {
   "cell_type": "code",
   "execution_count": null,
   "metadata": {},
   "outputs": [],
   "source": [
    "import pymysql\n",
    "import time\n",
    "import random\n",
    "import re\n",
    "\n",
    "conn = pymysql.connect( \n",
    "host='127.0.0.1', user='root', password='wpdjvks1',\n",
    "db='quiz', charset='utf8') # 데이터베이스 접속\n",
    "\n",
    "def play():\n",
    "    cursor = conn.cursor()\n",
    "    sql = '''\n",
    "    select * from quiz\n",
    "    '''\n",
    "    cursor.execute(sql)\n",
    "    result = cursor.fetchall()\n",
    "    Time = 0\n",
    "    score = 0\n",
    "    while True:\n",
    "        start_time = time.time()\n",
    "        random_num = random.randrange(0, len(result))\n",
    "        quiz_name = result[random_num][1]\n",
    "        quiz_answer = result[random_num][2]\n",
    "        print(quiz_name)                    # 퀴즈 출력\n",
    "\n",
    "        answer = input(\"answer : \")\n",
    "        end_time = time.time()\n",
    "        Time = Time + (end_time - start_time)\n",
    "        if Time > 10 : \n",
    "            break\n",
    "            \n",
    "        if answer ==  quiz_answer:  \n",
    "            print(\"correct\") # 질문이 맞으면 correct 틀리면 not \n",
    "            score += 1\n",
    "        else:\n",
    "            print(\"not\")\n",
    "\n",
    "        print(\"남은 시간 : \", 10 - round(Time),'초')\n",
    "    \n",
    "    print(\"시간이 초과했습니다. 경과시간 = %d초\" %round(Time))\n",
    "    print(\"Score : %d\" %score)\n",
    "    return score\n",
    "\n",
    "play()"
   ]
  },
  {
   "attachments": {},
   "cell_type": "markdown",
   "metadata": {},
   "source": [
    "#### 랭킹 수정"
   ]
  },
  {
   "cell_type": "code",
   "execution_count": null,
   "metadata": {},
   "outputs": [],
   "source": [
    "import pymysql\n",
    "\n",
    "conn = pymysql.connect( \n",
    "host='127.0.0.1', user='root', password='wpdjvks1',\n",
    "db='quiz', charset='utf8') # 데이터베이스 접속\n",
    "\n",
    "cursor = conn.cursor()\n",
    "sql = '''\n",
    "select user_score, user_id from user\n",
    "'''\n",
    "cursor.execute(sql)\n",
    "result = cursor.fetchall()\n",
    "sort = sorted(result, reverse=True)\n",
    "count = 1\n",
    "print(\"순위  아이디  점수\")\n",
    "\n",
    "for i in sort:\n",
    "    print('%-5d' %count, '%-7s' %i[1], i[0])\n",
    "    count +=1\n",
    "    if count == 6:\n",
    "        break    \n",
    "print(\"\")"
   ]
  },
  {
   "cell_type": "code",
   "execution_count": null,
   "metadata": {},
   "outputs": [],
   "source": [
    "name = \"\"\n",
    "\n",
    "def logout():\n",
    "    if name == \"\":\n",
    "        print(\"pls login\")\n",
    "    else:\n",
    "        global name\n",
    "        name = \"a\"\n",
    "        print(\"logOut!\")\n",
    "        \n",
    "logout()"
   ]
  },
  {
   "cell_type": "code",
<<<<<<< HEAD
   "execution_count": 5,
=======
   "execution_count": 60,
>>>>>>> aef242fb578797d275f3846ba09f09cbc893262d
   "metadata": {},
   "outputs": [
    {
     "name": "stdout",
     "output_type": "stream",
     "text": [
<<<<<<< HEAD
      "logout\n"
=======
      "False pw\n"
>>>>>>> aef242fb578797d275f3846ba09f09cbc893262d
     ]
    }
   ],
   "source": [
<<<<<<< HEAD
    "class testservice:\n",
    "    a = \"\"\n",
    "    def __init__(self) -> None:\n",
    "        pass\n",
    "    def test():\n",
    "        if a == \"\":\n",
    "            print(\"pls login\")\n",
    "            return\n",
    "        a = \"\"\n",
    "        print(\"logout\")\n",
    "\n",
    "test()"
=======
    "import pymysql\n",
    "import time\n",
    "import random\n",
    "import re\n",
    "\n",
    "conn = pymysql.connect( \n",
    "host='127.0.0.1', user='root', password='wpdjvks1',\n",
    "db='quiz', charset='utf8') # 데이터베이스 접속\n",
    "\n",
    "def sign_up():\n",
    "    id = input(\"ID : \")\n",
    "    reg = '^[A-Za-z0-9]{3,6}$' # id = 영문 대소문자 숫자 3자 이상 6자 이하로 한다.\n",
    "    if not re.search(reg, id):\n",
    "        print(\"False id\")\n",
    "        return\n",
    "    pw = input(\"PW : \")\n",
    "    reg = '^(?=.*[A-Za-z])(?=.*\\d)[A-Za-z\\d]{6,12}$' # pw = 최소 한개의 영문자, 숫자와 6자 이상 12자 이하로 한다\n",
    "    if not re.search(reg, pw):\n",
    "        print(\"False pw\")\n",
    "        return\n",
    "    cursor = conn.cursor()\n",
    "    sql = '''\n",
    "    INSERT INTO user (user_id, user_score, user_pw, playTime)\n",
    "    values (%s, %s, %s, %s)\n",
    "    '''\n",
    "    cursor.execute(sql, (id, 0, pw, 0))\n",
    "    conn.commit()\n",
    "    cursor.close()\n",
    "    disconn()\n",
    "\n",
    "sign_up()"
>>>>>>> aef242fb578797d275f3846ba09f09cbc893262d
   ]
  },
  {
   "cell_type": "code",
   "execution_count": 54,
   "metadata": {},
   "outputs": [],
   "source": [
    "import pymysql\n",
    "import time\n",
    "import random\n",
    "import re\n",
    "\n",
    "conn = pymysql.connect( \n",
    "host='127.0.0.1', user='root', password='wpdjvks1',\n",
    "db='quiz', charset='utf8') # 데이터베이스 접속\n",
    "\n",
    "loginId = \"\"\n",
    "\n",
    "def test():\n",
    "    score = 1\n",
    "    time = 2\n",
    "    return score, time\n",
    "\n",
    "def update_score(score, time, id):\n",
    "    cursor = conn.cursor()\n",
    "    sel = '''\n",
    "    select user_score, playTime from user where user_id=%s\n",
    "    '''\n",
    "    cursor.execute(sel, id)\n",
    "    result = cursor.fetchone() # 기존의 스코어 가져오기\n",
    "    lscore = result[0]\n",
    "    lplayTime = result[1]\n",
    "    sql = '''\n",
    "    UPDATE user set user_score = %s, playTime = %s where user_id = %s\n",
    "    '''\n",
    "    cursor.execute(sql, ((score+int(lscore)), (time+lplayTime), id)) # 스코어 누적하기\n",
    "    conn.commit()\n",
    "\n",
    "update_score(2,4, 'paran')"
   ]
  }
 ],
 "metadata": {
  "kernelspec": {
   "display_name": "Python 3",
   "language": "python",
   "name": "python3"
  },
  "language_info": {
   "codemirror_mode": {
    "name": "ipython",
    "version": 3
   },
   "file_extension": ".py",
   "mimetype": "text/x-python",
   "name": "python",
   "nbconvert_exporter": "python",
   "pygments_lexer": "ipython3",
   "version": "3.8.2"
  },
  "orig_nbformat": 4,
  "vscode": {
   "interpreter": {
    "hash": "f83fcac66940fd82c96543fcdfa728dd00b153b5596f9ca6f0fea47fe3acba25"
   }
  }
 },
 "nbformat": 4,
 "nbformat_minor": 2
}
