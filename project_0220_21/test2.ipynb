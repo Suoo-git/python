{
 "cells": [
  {
   "attachments": {},
   "cell_type": "markdown",
   "metadata": {},
   "source": [
    "#### SQL connection"
   ]
  },
  {
   "cell_type": "code",
   "execution_count": null,
   "metadata": {},
   "outputs": [],
   "source": [
    "import pymysql\n",
    "conn = pymysql.connect(\n",
    "host='127.0.0.1', user='root', password='wpdjvks1',\n",
    "db='Quiz', charset='utf8'\n",
    ")\n",
    "def match_pw(id):\n",
    "    try:\n",
    "        cursor = conn.cursor()\n",
    "        sql = '''\n",
    "        select * from user where user_id=%s\n",
    "        '''\n",
    "        cursor.execute(sql, id)\n",
    "        row = cursor.fetchone()\n",
    "        cursor.close()\n",
    "        return row[2]\n",
    "    except:\n",
    "        print(\"None ID\")\n",
    "        \n",
    "user_id = input(\"id : \")\n",
    "user_pw = input(\"pw : \")\n",
    "if match_pw(user_id) == user_pw:\n",
    "    print(\"login\")\n",
    "else:\n",
    "    print(\"loing False\")\n",
    "\n",
    "conn.commit()\n",
    "conn.close()"
   ]
  },
  {
   "attachments": {},
   "cell_type": "markdown",
   "metadata": {},
   "source": [
    "#### 로그인 구현(아이디 - 비밀번호)"
   ]
  },
  {
   "cell_type": "code",
   "execution_count": null,
   "metadata": {},
   "outputs": [],
   "source": [
    "def match_pw(id):       #일치하는 아이디 예외처리, \n",
    "                        #해당하는 아이디의 패스워드 추출\n",
    "    try:\n",
    "        cursor = conn.cursor()\n",
    "        sql = '''\n",
    "        select * from user where user_id=%s\n",
    "        '''\n",
    "        cursor.execute(sql, id)\n",
    "        row = cursor.fetchone()\n",
    "        cursor.close()\n",
    "        return row[2]\n",
    "    except:\n",
    "        print(\"None ID\")\n",
    "user_id = input(\"id : \")\n",
    "user_pw = input(\"pw : \")\n",
    "if match_pw(user_id) == user_pw:\n",
    "    print(\"login\")\n",
    "else:\n",
    "    print(\"loing False\")"
   ]
  },
  {
   "attachments": {},
   "cell_type": "markdown",
   "metadata": {},
   "source": [
    "#### play"
   ]
  },
  {
   "cell_type": "code",
   "execution_count": null,
   "metadata": {},
   "outputs": [],
   "source": [
    "import pymysql\n",
    "import time\n",
    "import random\n",
    "\n",
    "conn = pymysql.connect( \n",
    "host='127.0.0.1', user='root', password='wpdjvks1',\n",
    "db='quiz', charset='utf8') # 데이터베이스 접속\n",
    "\n",
    "def disconn():\n",
    "    conn.close()\n",
    "    \n",
    "def play():\n",
    "    cursor = conn.cursor()\n",
    "    sql = '''\n",
    "    select * from quiz\n",
    "    '''\n",
    "    cursor.execute(sql)\n",
    "    result = cursor.fetchall()\n",
    "    Time = 0\n",
    "    while True:\n",
    "        start_time = time.time()\n",
    "        random_num = random.randrange(0, len(result))\n",
    "        quiz_name = result[random_num][1]\n",
    "        quiz_answer = result[random_num][2]\n",
    "        print(quiz_name)                    # 퀴즈 출력\n",
    "\n",
    "        answer = input(\"answer : \")\n",
    "        if answer ==  quiz_answer:  \n",
    "            # 질문이 맞으면 correct 틀리면 not\n",
    "            print(\"correct\")\n",
    "        else:\n",
    "            print(\"not\")\n",
    "\n",
    "        end_time = time.time()\n",
    "        Time = Time + (end_time - start_time)\n",
    "        if Time > 10 : \n",
    "            break    \n",
    "        print(\"남은 시간 : \", 10 - round(Time),'초')\n",
    "    print(\"시간이 초과했습니다. 경과시간 = %d초\" %round(Time))\n",
    "\n",
    "play()"
   ]
  },
  {
   "attachments": {},
   "cell_type": "markdown",
   "metadata": {},
   "source": [
    "#### unique인덱스 설정 - 아이디 중복검사"
   ]
  },
  {
   "cell_type": "code",
   "execution_count": 35,
   "metadata": {},
   "outputs": [
    {
     "name": "stdout",
     "output_type": "stream",
     "text": [
      "Rank  ID      Score\n",
      "1     admin   17\n",
      "2     ggg     11\n",
      "3     god     10\n",
      "4     aabc    4\n",
      "5     susu    1\n",
      "내 점수 :  11 내 순위 : 2\n",
      "\n"
     ]
    }
   ],
   "source": [
    "import pymysql\n",
    "import time\n",
    "import random\n",
    "import re\n",
    "\n",
    "conn = pymysql.connect( \n",
    "host='127.0.0.1', user='root', password='wpdjvks1',\n",
    "db='quiz', charset='utf8') # 데이터베이스 접속\n",
    "\n",
    "loginId = \"ggg\"\n",
    "def rank():\n",
    "    cursor = conn.cursor()\n",
    "    sql = '''\n",
    "    select user_score, user_id from user\n",
    "    '''\n",
    "    cursor.execute(sql)\n",
    "    result = cursor.fetchall()\n",
    "    for j in result:\n",
    "        if j[1] == loginId:\n",
    "            myscore = j[0]\n",
    "    sort = sorted(result, reverse=True)\n",
    "    count = 1\n",
    "    mycount = '순위 외'\n",
    "    print(\"Rank  ID      Score\")\n",
    "    for i in sort:\n",
    "        print('%-5d' %count, '%-7s' %i[1], i[0])\n",
    "        if i[1] == loginId:\n",
    "            mycount = count\n",
    "        count +=1\n",
    "        if count == 6:\n",
    "            break\n",
    "    print(\"내 점수 : \",myscore, \"내 순위 :\",mycount)\n",
    "    print(\"\")\n",
    "    \n",
    "    \n",
    "rank()"
   ]
  }
 ],
 "metadata": {
  "kernelspec": {
   "display_name": "Python 3",
   "language": "python",
   "name": "python3"
  },
  "language_info": {
   "codemirror_mode": {
    "name": "ipython",
    "version": 3
   },
   "file_extension": ".py",
   "mimetype": "text/x-python",
   "name": "python",
   "nbconvert_exporter": "python",
   "pygments_lexer": "ipython3",
   "version": "3.11.1"
  },
  "orig_nbformat": 4,
  "vscode": {
   "interpreter": {
    "hash": "1682e5d06a6d97c1b1cf6bb4ae6cf16223e994936ddb1d53664597d7d46101fa"
   }
  }
 },
 "nbformat": 4,
 "nbformat_minor": 2
}
