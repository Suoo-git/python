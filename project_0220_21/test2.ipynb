{
 "cells": [
  {
   "attachments": {},
   "cell_type": "markdown",
   "metadata": {},
   "source": [
    "#### SQL connection"
   ]
  },
  {
   "cell_type": "code",
   "execution_count": 13,
   "metadata": {},
   "outputs": [
    {
     "name": "stdout",
     "output_type": "stream",
     "text": [
      "None ID\n",
      "loing False\n"
     ]
    }
   ],
   "source": [
    "import pymysql\n",
    "conn = pymysql.connect(\n",
    "host='127.0.0.1', user='root', password='wpdjvks1',\n",
    "db='Quiz', charset='utf8'\n",
    ")\n",
    "def match_pw(id):\n",
    "    try:\n",
    "        cursor = conn.cursor()\n",
    "        sql = '''\n",
    "        select * from user where user_id=%s\n",
    "        '''\n",
    "        cursor.execute(sql, id)\n",
    "        row = cursor.fetchone()\n",
    "        cursor.close()\n",
    "        return row[2]\n",
    "    except:\n",
    "        print(\"None ID\")\n",
    "        \n",
    "user_id = input(\"id : \")\n",
    "user_pw = input(\"pw : \")\n",
    "if match_pw(user_id) == user_pw:\n",
    "    print(\"login\")\n",
    "else:\n",
    "    print(\"loing False\")\n",
    "\n",
    "conn.commit()\n",
    "conn.close()"
   ]
  },
  {
   "attachments": {},
   "cell_type": "markdown",
   "metadata": {},
   "source": [
    "#### 로그인 구현(아이디 - 비밀번호)"
   ]
  },
  {
   "cell_type": "code",
   "execution_count": null,
   "metadata": {},
   "outputs": [],
   "source": [
    "def match_pw(id):       #일치하는 아이디 예외처리, \n",
    "                        #해당하는 아이디의 패스워드 추출\n",
    "    try:\n",
    "        cursor = conn.cursor()\n",
    "        sql = '''\n",
    "        select * from user where user_id=%s\n",
    "        '''\n",
    "        cursor.execute(sql, id)\n",
    "        row = cursor.fetchone()\n",
    "        cursor.close()\n",
    "        return row[2]\n",
    "    except:\n",
    "        print(\"None ID\")\n",
    "user_id = input(\"id : \")\n",
    "user_pw = input(\"pw : \")\n",
    "if match_pw(user_id) == user_pw:\n",
    "    print(\"login\")\n",
    "else:\n",
    "    print(\"loing False\")"
   ]
  },
  {
   "cell_type": "code",
   "execution_count": null,
   "metadata": {},
   "outputs": [],
   "source": []
  }
 ],
 "metadata": {
  "kernelspec": {
   "display_name": "Python 3",
   "language": "python",
   "name": "python3"
  },
  "language_info": {
   "codemirror_mode": {
    "name": "ipython",
    "version": 3
   },
   "file_extension": ".py",
   "mimetype": "text/x-python",
   "name": "python",
   "nbconvert_exporter": "python",
   "pygments_lexer": "ipython3",
   "version": "3.11.1"
  },
  "orig_nbformat": 4,
  "vscode": {
   "interpreter": {
    "hash": "1682e5d06a6d97c1b1cf6bb4ae6cf16223e994936ddb1d53664597d7d46101fa"
   }
  }
 },
 "nbformat": 4,
 "nbformat_minor": 2
}
