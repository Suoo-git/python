{
 "cells": [
  {
   "attachments": {},
   "cell_type": "markdown",
   "metadata": {},
   "source": [
    "#### SQL connection"
   ]
  },
  {
   "cell_type": "code",
   "execution_count": 13,
   "metadata": {},
   "outputs": [
    {
     "name": "stdout",
     "output_type": "stream",
     "text": [
      "None ID\n",
      "loing False\n"
     ]
    }
   ],
   "source": [
    "import pymysql\n",
    "conn = pymysql.connect(\n",
    "host='127.0.0.1', user='root', password='wpdjvks1',\n",
    "db='Quiz', charset='utf8'\n",
    ")\n",
    "def match_pw(id):\n",
    "    try:\n",
    "        cursor = conn.cursor()\n",
    "        sql = '''\n",
    "        select * from user where user_id=%s\n",
    "        '''\n",
    "        cursor.execute(sql, id)\n",
    "        row = cursor.fetchone()\n",
    "        cursor.close()\n",
    "        return row[2]\n",
    "    except:\n",
    "        print(\"None ID\")\n",
    "        \n",
    "user_id = input(\"id : \")\n",
    "user_pw = input(\"pw : \")\n",
    "if match_pw(user_id) == user_pw:\n",
    "    print(\"login\")\n",
    "else:\n",
    "    print(\"loing False\")\n",
    "\n",
    "conn.commit()\n",
    "conn.close()"
   ]
  },
  {
   "attachments": {},
   "cell_type": "markdown",
   "metadata": {},
   "source": [
    "#### 로그인 구현(아이디 - 비밀번호)"
   ]
  },
  {
   "cell_type": "code",
   "execution_count": null,
   "metadata": {},
   "outputs": [],
   "source": [
    "def match_pw(id):       #일치하는 아이디 예외처리, \n",
    "                        #해당하는 아이디의 패스워드 추출\n",
    "    try:\n",
    "        cursor = conn.cursor()\n",
    "        sql = '''\n",
    "        select * from user where user_id=%s\n",
    "        '''\n",
    "        cursor.execute(sql, id)\n",
    "        row = cursor.fetchone()\n",
    "        cursor.close()\n",
    "        return row[2]\n",
    "    except:\n",
    "        print(\"None ID\")\n",
    "user_id = input(\"id : \")\n",
    "user_pw = input(\"pw : \")\n",
    "if match_pw(user_id) == user_pw:\n",
    "    print(\"login\")\n",
    "else:\n",
    "    print(\"loing False\")"
   ]
  },
  {
   "attachments": {},
   "cell_type": "markdown",
   "metadata": {},
   "source": [
    "#### play"
   ]
  },
  {
   "cell_type": "code",
   "execution_count": 20,
   "metadata": {},
   "outputs": [
    {
     "name": "stdout",
     "output_type": "stream",
     "text": [
      "베트남 하노이 인근 홍강 삼각주에서 오래전부터 벼농사 문화의 일부로 진행되었으며\n",
      "not\n",
      "남은 시간 :  7 초\n",
      "고니가 아래 사진과 같이 한 발로 쉬고 있는 이유는 무엇일까요?\n",
      "not\n",
      "남은 시간 :  4 초\n",
      "다음 중 주남저수지 주변에서 볼 수 있는 문화재가 아닌 것은 무엇일까요?\n",
      "not\n",
      "남은 시간 :  2 초\n",
      "갈대와 억새의 차이점이 아닌 것은 무엇일까요?\n",
      "not\n",
      "시간이 초과했습니다. 시간 = 11초\n"
     ]
    }
   ],
   "source": [
    "import pymysql\n",
    "import time\n",
    "import random\n",
    "\n",
    "conn = pymysql.connect( \n",
    "host='127.0.0.1', user='root', password='wpdjvks1',\n",
    "db='quiz', charset='utf8') # 데이터베이스 접속\n",
    "\n",
    "def disconn():\n",
    "    conn.close()\n",
    "    \n",
    "def play():\n",
    "    cursor = conn.cursor()\n",
    "    sql = '''\n",
    "    select * from quiz\n",
    "    '''\n",
    "    cursor.execute(sql)\n",
    "    result = cursor.fetchall()\n",
    "    Time = 0\n",
    "    while True:\n",
    "        start_time = time.time()\n",
    "        random_num = random.randrange(0, len(result))\n",
    "        quiz_name = result[random_num][1]\n",
    "        quiz_answer = result[random_num][2]\n",
    "        print(quiz_name)                    # 퀴즈 출력\n",
    "\n",
    "        answer = input(\"answer : \")\n",
    "        if answer ==  quiz_answer:  \n",
    "            # 질문이 맞으면 correct 틀리면 not\n",
    "            print(\"correct\")\n",
    "        else:\n",
    "            print(\"not\")\n",
    "\n",
    "        end_time = time.time()\n",
    "        Time = Time + (end_time - start_time)\n",
    "        if Time > 10 : \n",
    "            break    \n",
    "        print(\"남은 시간 : \", 10 - round(Time),'초')\n",
    "    print(\"시간이 초과했습니다. 경과시간 = %d초\" %round(Time))\n",
    "\n",
    "play()"
   ]
  }
 ],
 "metadata": {
  "kernelspec": {
   "display_name": "Python 3",
   "language": "python",
   "name": "python3"
  },
  "language_info": {
   "codemirror_mode": {
    "name": "ipython",
    "version": 3
   },
   "file_extension": ".py",
   "mimetype": "text/x-python",
   "name": "python",
   "nbconvert_exporter": "python",
   "pygments_lexer": "ipython3",
   "version": "3.11.1"
  },
  "orig_nbformat": 4,
  "vscode": {
   "interpreter": {
    "hash": "1682e5d06a6d97c1b1cf6bb4ae6cf16223e994936ddb1d53664597d7d46101fa"
   }
  }
 },
 "nbformat": 4,
 "nbformat_minor": 2
}
