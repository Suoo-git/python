{
 "cells": [
  {
   "cell_type": "code",
   "execution_count": null,
   "metadata": {},
   "outputs": [],
   "source": [
    "import hrd\n",
    "\n",
    "dog = hrd.Dog()\n",
    "dog.run()\n",
    "\n",
    "__name__"
   ]
  },
  {
   "cell_type": "code",
   "execution_count": null,
   "metadata": {},
   "outputs": [],
   "source": [
    "# get_pw 함수 작성\n",
    "import hashlib\n",
    "pw = '1234'\n",
    "pw_to_bytes = bytes(pw, 'utf8')\n",
    "m = hashlib.sha256()\n",
    "m.update( pw_to_bytes )\n",
    "print( m.hexdigest() )"
   ]
  },
  {
   "cell_type": "code",
   "execution_count": null,
   "metadata": {},
   "outputs": [],
   "source": [
    "import driver.sound.mp3\n",
    "driver.sound.mp3.sound()\n",
    "\n",
    "from driver.sound.mp3 import sound\n",
    "sound()"
   ]
  },
  {
   "cell_type": "code",
   "execution_count": null,
   "metadata": {},
   "outputs": [],
   "source": [
    "try:\n",
    "    print(2 / 0)\n",
    "except ZeroDivisionError as e:\n",
    "    print('예외발생')\n",
    "    print(e)\n"
   ]
  },
  {
   "cell_type": "code",
   "execution_count": null,
   "metadata": {},
   "outputs": [],
   "source": [
    "li = ['a', 'b', 'c', 'd']\n",
    "while True:\n",
    "    s = input('input number : (0~3)')\n",
    "    if s == '!': break\n",
    "    try:\n",
    "        print(\"number : %s\"% li[int(s)])\n",
    "    except:\n",
    "        print(\"retry\")\n",
    "   "
   ]
  },
  {
   "cell_type": "code",
   "execution_count": null,
   "metadata": {},
   "outputs": [],
   "source": [
    "import sqlite3\n",
    "conn = sqlite3.connect('geoje.db')\n",
    "cursor = conn.cursor()\n",
    "sql = '''\n",
    "SELECT id, name, desc, mapinfo, latitude, longitude\n",
    "FORM tour\n",
    "''' # FROM tour\n",
    "try:\n",
    "    cursor.execute(sql)\n",
    "    result = cursor.fetchmany(10)\n",
    "    for row in result:\n",
    "        print(row[1], row[4], row[5])\n",
    "except:\n",
    "    print(\"error\")\n",
    "cursor.close()\n",
    "conn.close()"
   ]
  },
  {
   "cell_type": "code",
   "execution_count": 10,
   "metadata": {},
   "outputs": [],
   "source": [
    "import pymysql # 모듈 import\n",
    "try:\n",
    "    conn = pymysql.connect(\n",
    "    host='15.164.153.191', user='hrd', password='1234',\n",
    "    db='hrd', charset='utf8'\n",
    "    ) # 데이터베이스 접속\n",
    "    cursor = conn.cursor() # 커서 객체 생성\n",
    "    sql = '''\n",
    "    insert into emp (empno, ename)\n",
    "    values (%s, %s)\n",
    "    '''\n",
    "    cursor.execute(sql, (2480, '이수성')) # SQL 실행\n",
    "    conn.commit() # 실행내용 저장\n",
    "    cursor.close() # 커서 객체 종료\n",
    "    conn.close() # 접속 해제\n",
    "except pymysql.OperationalError as e:\n",
    "    print(\"Error\")"
   ]
  },
  {
   "cell_type": "code",
   "execution_count": null,
   "metadata": {},
   "outputs": [],
   "source": [
    "import pymysql # 모듈 import\n",
    "try:\n",
    "    conn = pymysql.connect(\n",
    "    host='15.164.153.191', user='hrd', password='1234',\n",
    "    db='hrd', charset='utf8'\n",
    "    ) # 데이터베이스 접속\n",
    "    cursor = conn.cursor() # 커서 객체 생성\n",
    "    sql = '''\n",
    "    select *\n",
    "    from holiday_parking\n",
    "    where sido like %s\n",
    "    '''\n",
    "    cursor.execute(sql, ('광주광역시')) # SQL 실행\n",
    "    result = cursor.fetchall()\n",
    "    # print(result)\n",
    "    for row in result:\n",
    "        print(row[0], row[7])\n",
    "    conn.commit() # 실행내용 저장\n",
    "    cursor.close() # 커서 객체 종료\n",
    "    conn.close() # 접속 해제\n",
    "except pymysql.OperationalError as e:\n",
    "    print(\"Error\")"
   ]
  },
  {
   "cell_type": "code",
   "execution_count": 4,
   "metadata": {},
   "outputs": [
    {
     "name": "stdout",
     "output_type": "stream",
     "text": [
      "2\n"
     ]
    }
   ],
   "source": [
    "print(4//4)\n",
    "print()"
   ]
  }
 ],
 "metadata": {
  "kernelspec": {
   "display_name": "base",
   "language": "python",
   "name": "python3"
  },
  "language_info": {
   "codemirror_mode": {
    "name": "ipython",
    "version": 3
   },
   "file_extension": ".py",
   "mimetype": "text/x-python",
   "name": "python",
   "nbconvert_exporter": "python",
   "pygments_lexer": "ipython3",
   "version": "3.8.5"
  },
  "orig_nbformat": 4,
  "vscode": {
   "interpreter": {
    "hash": "aa5830cf355257ba87feaf75e2e094623e5c2f74fe4bcb63cfd746d35a27c847"
   }
  }
 },
 "nbformat": 4,
 "nbformat_minor": 2
}
