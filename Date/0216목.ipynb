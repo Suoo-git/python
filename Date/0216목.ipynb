{
 "cells": [
  {
   "cell_type": "code",
   "execution_count": 64,
   "metadata": {},
   "outputs": [
    {
     "data": {
      "text/plain": [
       "['a', 'b', 'c', 'd']"
      ]
     },
     "execution_count": 64,
     "metadata": {},
     "output_type": "execute_result"
    }
   ],
   "source": [
    "import re\n",
    "p = re.compile('[^A-Z]')\n",
    "\n",
    "text = 'abcd'\n",
    "\n",
    "p.findall(text)"
   ]
  },
  {
   "cell_type": "code",
   "execution_count": 65,
   "metadata": {},
   "outputs": [
    {
     "name": "stdout",
     "output_type": "stream",
     "text": [
      "['a', 'b', 'd']\n"
     ]
    }
   ],
   "source": [
    "import re\n",
    "f = re.compile('\\D')\n",
    "\n",
    "text = '1ab5d'\n",
    "\n",
    "print(f.findall(text))"
   ]
  },
  {
   "cell_type": "code",
   "execution_count": 79,
   "metadata": {},
   "outputs": [
    {
     "name": "stdout",
     "output_type": "stream",
     "text": [
      "a12abc <- 가입 가능\n"
     ]
    }
   ],
   "source": [
    "import re\n",
    "pattern1 = re.compile('[a-zA-Z]') # 시작 문자는 영어이어야 한다.\n",
    "pattern2 = re.compile('[^0-9a-zA-Z]') # 영어와 숫자로만 작성되어야 한다.\n",
    "user_id = 'a12abc'\n",
    "result1 = pattern1.match(user_id)\n",
    "result2 = pattern2.search(user_id)\n",
    "if result1 and (not result2):\n",
    "    print('%s <- 가입 가능' % user_id)\n",
    "else:\n",
    "    print('%s <- 가입 불가' % user_id)"
   ]
  },
  {
   "cell_type": "code",
   "execution_count": 81,
   "metadata": {},
   "outputs": [
    {
     "name": "stdout",
     "output_type": "stream",
     "text": [
      "<re.Match object; span=(0, 3), match='aab'>\n"
     ]
    }
   ],
   "source": [
    "import re\n",
    "str = re.compile('a.b')\n",
    "\n",
    "\n",
    "print(str.match('aab'))"
   ]
  },
  {
   "cell_type": "code",
   "execution_count": 8,
   "metadata": {},
   "outputs": [
    {
     "name": "stdout",
     "output_type": "stream",
     "text": [
      "<re.Match object; span=(0, 3), match='aab'>\n",
      "None\n"
     ]
    }
   ],
   "source": [
    "import re\n",
    "a = re.compile('a{2}b')     #\n",
    "b = re.compile('a{1,3}b')\n",
    "print(a.match('aab'))\n",
    "print(b.match('aaaab'))\n"
   ]
  },
  {
   "cell_type": "code",
   "execution_count": 24,
   "metadata": {},
   "outputs": [
    {
     "name": "stdout",
     "output_type": "stream",
     "text": [
      "791111-4234567 <- 정상\n"
     ]
    }
   ],
   "source": [
    "# 연습문제 주민등록번호 유효성 검사\n",
    "# 앞자리 숫자는 6자리, 숫자는 7자리로 작성되어야 한다\n",
    "# 뒷자리의 시작숫자는 1 ~ 4 이어야 한다.\n",
    "import re\n",
    "pattern = re.compile('(\\d{6})-[1-4]{1}\\d{6}')\n",
    "text = '791111-4234567'\n",
    "print(text, end=' <- ')\n",
    "result = pattern.search(text)\n",
    "if result:\n",
    "    print('정상')\n",
    "else:\n",
    "    print('올바르지 못한 주민등록번호')"
   ]
  },
  {
   "cell_type": "code",
   "execution_count": 13,
   "metadata": {},
   "outputs": [
    {
     "name": "stdout",
     "output_type": "stream",
     "text": [
      "123-12-123456 <- 확인되었습니다.\n"
     ]
    }
   ],
   "source": [
    "import re\n",
    "pattern = re.compile('1{1}\\d{2}-1\\d-\\d{6}')\n",
    "text = '123-12-123456'\n",
    "print(text, end=' <- ')\n",
    "result = pattern.search(text)\n",
    "if result:\n",
    "    print('확인되었습니다.')\n",
    "else:\n",
    "    print('계좌번호 다시 확인해주세요.')"
   ]
  },
  {
   "cell_type": "code",
   "execution_count": 33,
   "metadata": {},
   "outputs": [
    {
     "name": "stdout",
     "output_type": "stream",
     "text": [
      " 하겠습니다. \n"
     ]
    }
   ],
   "source": [
    "# 조건 1) '안녕하세요' 문자로 시작\n",
    "# 조건 2) 내용 중 '열심히' 문자 포함\n",
    "# 조건 3) '감사합니다.' 문자로 종료\n",
    "\n",
    "import re\n",
    "pattern = re.compile('^안녕하세요(.*)열심히(.*)감사합니다.$')\n",
    "text = '''\n",
    "안녕하세요. 저는 OOO에서 태어났고...\n",
    "열심히 하겠습니다. 감사합니다.\n",
    "'''\n",
    "# 코드 작성\n",
    "text = text.replace('\\n', '')\n",
    "# print(pattern.search(text))\n",
    "print(pattern.search(text).group(2))"
   ]
  },
  {
   "cell_type": "code",
   "execution_count": 44,
   "metadata": {},
   "outputs": [
    {
     "name": "stdout",
     "output_type": "stream",
     "text": [
      "이메일 :\n"
     ]
    }
   ],
   "source": [
    "import re\n",
    "pattern = re.compile('이메일\\s*:()'\n",
    ") # \n",
    "text = '''\n",
    "사용자 정보, 이름: 꼬렙, 전화번호 : 1234, 이메일 : seorab@naver.com\n",
    "'''\n",
    "# 코드 작성\n",
    "print(pattern.search(text).group(0))"
   ]
  },
  {
   "cell_type": "code",
   "execution_count": 55,
   "metadata": {},
   "outputs": [
    {
     "name": "stdout",
     "output_type": "stream",
     "text": [
      "['Life', 'is', 'too', 'short', 'You', 'need', 'Python']\n",
      "['010', '8478', '8181']\n",
      "[10, 8478, 8181]\n"
     ]
    }
   ],
   "source": [
    "pattern = re.compile('\\w+')\n",
    "result = pattern.findall('Life is too short, You need Python')\n",
    "print(result)\n",
    "\n",
    "pattern = re.compile('[^-]+') # 하이픈(-)이 아닌 1개 이상의 문자\n",
    "result = pattern.findall('010-8478-8181')\n",
    "print(result)\n",
    "A = map(int, result)\n",
    "print(list(A))"
   ]
  }
 ],
 "metadata": {
  "kernelspec": {
   "display_name": "Python 3",
   "language": "python",
   "name": "python3"
  },
  "language_info": {
   "codemirror_mode": {
    "name": "ipython",
    "version": 3
   },
   "file_extension": ".py",
   "mimetype": "text/x-python",
   "name": "python",
   "nbconvert_exporter": "python",
   "pygments_lexer": "ipython3",
   "version": "3.11.1"
  },
  "orig_nbformat": 4,
  "vscode": {
   "interpreter": {
    "hash": "1682e5d06a6d97c1b1cf6bb4ae6cf16223e994936ddb1d53664597d7d46101fa"
   }
  }
 },
 "nbformat": 4,
 "nbformat_minor": 2
}
