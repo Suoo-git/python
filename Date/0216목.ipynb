{
 "cells": [
  {
   "cell_type": "code",
   "execution_count": null,
   "metadata": {},
   "outputs": [],
   "source": [
    "import re\n",
    "p = re.compile('[^A-Z]')\n",
    "\n",
    "text = 'abcd'\n",
    "\n",
    "p.findall(text)"
   ]
  },
  {
   "cell_type": "code",
   "execution_count": null,
   "metadata": {},
   "outputs": [],
   "source": [
    "import re\n",
    "f = re.compile('\\D')\n",
    "\n",
    "text = '1ab5d'\n",
    "\n",
    "print(f.findall(text))"
   ]
  },
  {
   "cell_type": "code",
   "execution_count": null,
   "metadata": {},
   "outputs": [],
   "source": [
    "import re\n",
    "pattern1 = re.compile('[a-zA-Z]') # 시작 문자는 영어이어야 한다.\n",
    "pattern2 = re.compile('[^0-9a-zA-Z]') # 영어와 숫자로만 작성되어야 한다.\n",
    "user_id = 'a12abc'\n",
    "result1 = pattern1.match(user_id)\n",
    "result2 = pattern2.search(user_id)\n",
    "if result1 and (not result2):\n",
    "    print('%s <- 가입 가능' % user_id)\n",
    "else:\n",
    "    print('%s <- 가입 불가' % user_id)"
   ]
  },
  {
   "cell_type": "code",
   "execution_count": null,
   "metadata": {},
   "outputs": [],
   "source": [
    "import re\n",
    "str = re.compile('a.b')\n",
    "\n",
    "\n",
    "print(str.match('aab'))"
   ]
  },
  {
   "cell_type": "code",
   "execution_count": null,
   "metadata": {},
   "outputs": [],
   "source": [
    "import re\n",
    "a = re.compile('a{2}b')     #\n",
    "b = re.compile('a{1,3}b')\n",
    "print(a.match('aab'))\n",
    "print(b.match('aaaab'))\n"
   ]
  },
  {
   "cell_type": "code",
   "execution_count": null,
   "metadata": {},
   "outputs": [],
   "source": [
    "# 연습문제 주민등록번호 유효성 검사\n",
    "# 앞자리 숫자는 6자리, 숫자는 7자리로 작성되어야 한다\n",
    "# 뒷자리의 시작숫자는 1 ~ 4 이어야 한다.\n",
    "import re\n",
    "pattern = re.compile('(\\d{6})-[1-4]{1}\\d{6}')\n",
    "text = '791111-4234567'\n",
    "print(text, end=' <- ')\n",
    "result = pattern.search(text)\n",
    "if result:\n",
    "    print('정상')\n",
    "else:\n",
    "    print('올바르지 못한 주민등록번호')"
   ]
  },
  {
   "cell_type": "code",
   "execution_count": null,
   "metadata": {},
   "outputs": [],
   "source": [
    "import re\n",
    "pattern = re.compile('1{1}\\d{2}-1\\d-\\d{6}')\n",
    "text = '123-12-123456'\n",
    "print(text, end=' <- ')\n",
    "result = pattern.search(text)\n",
    "if result:\n",
    "    print('확인되었습니다.')\n",
    "else:\n",
    "    print('계좌번호 다시 확인해주세요.')"
   ]
  },
  {
   "cell_type": "code",
   "execution_count": null,
   "metadata": {},
   "outputs": [],
   "source": [
    "# 조건 1) '안녕하세요' 문자로 시작\n",
    "# 조건 2) 내용 중 '열심히' 문자 포함\n",
    "# 조건 3) '감사합니다.' 문자로 종료\n",
    "\n",
    "import re\n",
    "pattern = re.compile('^안녕하세요(.*)열심히(.*)감사합니다.$')\n",
    "text = '''\n",
    "안녕하세요. 저는 OOO에서 태어났고...\n",
    "열심히 하겠습니다. 감사합니다.\n",
    "'''\n",
    "# 코드 작성\n",
    "text = text.replace('\\n', '')\n",
    "# print(pattern.search(text))\n",
    "print(pattern.search(text).group(2))"
   ]
  },
  {
   "cell_type": "code",
   "execution_count": null,
   "metadata": {},
   "outputs": [],
   "source": [
    "import re\n",
    "pattern = re.compile('이메일\\s*:()'\n",
    ") # \n",
    "text = '''\n",
    "사용자 정보, 이름: 꼬렙, 전화번호 : 1234, 이메일 : seorab@naver.com\n",
    "'''\n",
    "# 코드 작성\n",
    "print(pattern.search(text).group(0))"
   ]
  },
  {
   "cell_type": "code",
   "execution_count": null,
   "metadata": {},
   "outputs": [],
   "source": [
    "pattern = re.compile('\\w+')\n",
    "result = pattern.findall('Life is too short, You need Python')\n",
    "print(result)\n",
    "\n",
    "pattern = re.compile('[^-]+') # 하이픈(-)이 아닌 1개 이상의 문자\n",
    "result = pattern.findall('010-8478-8181')\n",
    "print(result)\n",
    "A = map(int, result)\n",
    "print(list(A))"
   ]
  },
  {
   "cell_type": "code",
   "execution_count": null,
   "metadata": {},
   "outputs": [],
   "source": [
    "import re\n",
    "pattern = re.compile('에러\\s*(\\d+)')#\n",
    "pattern = re.compile(':\\s*(\\w.*+)') # \n",
    "result = pattern.findall(\n",
    "'에러 404 : 페이지 없음\\n 에러 500 : 서버 오류')\n",
    "print(result)"
   ]
  },
  {
   "cell_type": "code",
   "execution_count": null,
   "metadata": {},
   "outputs": [],
   "source": [
    "import re\n",
    "import requests\n",
    "res = requests.get('http://ggoreb.com/quiz/harry_potter.txt')\n",
    "\n",
    "text = res.text\n",
    "p = re.compile('harry', re.I)\n",
    "p.findall(text)\n"
   ]
  },
  {
   "cell_type": "code",
   "execution_count": null,
   "metadata": {},
   "outputs": [],
   "source": [
    "# - 조건 1) 검색어는 #기호 다음부터 시작\n",
    "# - 조건 2) 여러 개의 검색어가 입력될 때는 comma(,)와 공백으로 구분\n",
    "# - 조건 3) 검색어 구분자 중 공백은 한개 이상이 입력될 수 있음\n",
    "\n",
    "import re\n",
    "pattern = re.compile('#(\\w+)')\n",
    "text = '#서울, #강남, #맛집, #주꾸미'\n",
    "res = pattern.findall(text)\n",
    "print(res)"
   ]
  },
  {
   "cell_type": "code",
   "execution_count": null,
   "metadata": {},
   "outputs": [],
   "source": [
    "import requests \n",
    "import re\n",
    "res = requests.get(\n",
    "'http://ggoreb.com/python/file/운수좋은날.txt')\n",
    "res.encoding = None\n",
    "text = res.text\n",
    "# 코드 작성     #이름 김첨지 등장 횟수 확인\n",
    "p = re.compile('김\\s*첨\\s*지')\n",
    "p.findall(text)"
   ]
  },
  {
   "cell_type": "code",
   "execution_count": null,
   "metadata": {},
   "outputs": [],
   "source": [
    "import re\n",
    "pattern = re.compile('Unix|Linux')\n",
    "text = 'GNU is Not Unix, Unix is not Linux'\n",
    "change = 'OS'\n",
    "result = pattern.sub(change, text, 2)\n",
    "print(result)"
   ]
  },
  {
   "cell_type": "code",
   "execution_count": null,
   "metadata": {},
   "outputs": [],
   "source": [
    "import re\n",
    "f = open('매장데이터.txt', encoding='UTF-8')\n",
    "# pattern = re.compile()\n",
    "text = ''\n",
    "text = f.read()\n",
    "pattern = re.compile('\\d{2}\\s(\\w+)\\n')\n",
    "result = pattern.findall(text)\n",
    "# print(len(result))\n",
    "# print(result)\n",
    "\n",
    "\n",
    "shop_list = []\n",
    "for idx, name in enumerate(result[:5]):\n",
    "    sidx = text.find(name)  \n",
    "    eidx = text.find(result[idx+1])\n",
    "    # print(text[sidx:eidx])\n",
    "    # print('=' *20)\n",
    "# print(shop_lish[0].split('\\n'))\n",
    "    shop = text[sidx:eidx].split('\\n')\n",
    "    shop_name = shop[0]\n",
    "    shop_desc = shop[1]\n",
    "    shop_menu = shop[3].split('|')\n",
    "    etc = shop[5].split('/')\n",
    "    adress = etc[0]\n",
    "    tel = etc[1]\n",
    "    time = etc[2]\n",
    "    rest = etc[3]\n",
    "\n",
    "print(shop_name) "
   ]
  },
  {
   "cell_type": "code",
   "execution_count": 12,
   "metadata": {},
   "outputs": [],
   "source": [
    "class 클래스:\n",
    "    def __init__(self):\n",
    "        self.전역변수 = 10\n",
    "    def run():\n",
    "        지역변수 = 100\n",
    "        print('함수 동작 %s' % 지역변수)\n",
    "    def add(self):\n",
    "        self.전역변수 += 10\n",
    "    def show(self):\n",
    "        return self.전역변수\n",
    "\n",
    "a = 클래스()\n",
    "\n",
    "a.add()"
   ]
  },
  {
   "cell_type": "code",
   "execution_count": 14,
   "metadata": {},
   "outputs": [
    {
     "name": "stdout",
     "output_type": "stream",
     "text": [
      "100 200\n"
     ]
    }
   ],
   "source": [
    "class Computer:\n",
    "    def powerOn(self):\n",
    "        self.power = True\n",
    "        print('전원 ON')\n",
    "    def powerOff(self):\n",
    "        self.power = False\n",
    "        print('전원 OFF')\n",
    "com = Computer()\n",
    "\n",
    "c1 = Computer()\n",
    "c1.price = 100\n",
    "c2 = Computer()\n",
    "c2.price = 200\n",
    "print(c1.price, c2.price)\n",
    "com1 = {'price'}"
   ]
  },
  {
   "cell_type": "code",
   "execution_count": 20,
   "metadata": {},
   "outputs": [
    {
     "name": "stdout",
     "output_type": "stream",
     "text": [
      "Python 10000\n",
      "Java 10000\n"
     ]
    }
   ],
   "source": [
    "class Book:\n",
    "    def __init__(self):\n",
    "        self.title = \"\"\n",
    "        self.price = 0\n",
    "        \n",
    "    def setTitle(self, title):\n",
    "        self.title = title\n",
    "        \n",
    "    def setPrice(self, price):\n",
    "        self.price = price\n",
    "        \n",
    "book1 = Book()\n",
    "book1.setTitle('Python')\n",
    "book1.setPrice(10000)\n",
    "print(book1.title, book1.price)\n",
    "book2 = Book()\n",
    "book2.setTitle('Java')\n",
    "book2.setPrice(10000)\n",
    "print(book2.title, book2.price)"
   ]
  },
  {
   "cell_type": "code",
   "execution_count": 5,
   "metadata": {},
   "outputs": [
    {
     "name": "stdout",
     "output_type": "stream",
     "text": [
      "['q', 'u', 'a', 'l', 'i', 't', 'y']"
     ]
    }
   ],
   "source": [
    "import requests as req\n",
    "res = req.get('http://ggoreb.com/quiz/special.html')\n",
    "res.encoding = None\n",
    "text = res.text\n",
    "# print(text.find('}!)')) 3967\n",
    "text = text[3966:]\n",
    "\n",
    "import re\n",
    "pattern = re.compile('[a-zA-Z]')\n",
    "result = pattern.findall(text)\n",
    "print(result, end=\"\")"
   ]
  },
  {
   "cell_type": "code",
   "execution_count": 49,
   "metadata": {},
   "outputs": [
    {
     "name": "stdout",
     "output_type": "stream",
     "text": [
      "['l', 'i', 'n', 'k', 'e', 'd', 'l', 'i', 's', 't']\n"
     ]
    }
   ],
   "source": [
    "import requests as req\n",
    "res = req.get('http://ggoreb.com/quiz/pattern.html')\n",
    "res.encoding = None\n",
    "text = res.text\n",
    "#text.cind(below:) 1375\n",
    "text = text[1380:]\n",
    "# print(text)\n",
    "import re\n",
    "pattern = re.compile('[a-z]{1}[A-Z]{3}([a-z]{1})[A-Z]{3}[a-z]{1}')\n",
    "result = pattern.findall(text)\n",
    "# print(text)\n",
    "print(result)"
   ]
  },
  {
   "cell_type": "code",
   "execution_count": null,
   "metadata": {},
   "outputs": [],
   "source": [
    "print0"
   ]
  }
 ],
 "metadata": {
  "kernelspec": {
   "display_name": "Python 3",
   "language": "python",
   "name": "python3"
  },
  "language_info": {
   "codemirror_mode": {
    "name": "ipython",
    "version": 3
   },
   "file_extension": ".py",
   "mimetype": "text/x-python",
   "name": "python",
   "nbconvert_exporter": "python",
   "pygments_lexer": "ipython3",
   "version": "3.8.2"
  },
  "orig_nbformat": 4,
  "vscode": {
   "interpreter": {
    "hash": "f83fcac66940fd82c96543fcdfa728dd00b153b5596f9ca6f0fea47fe3acba25"
   }
  }
 },
 "nbformat": 4,
 "nbformat_minor": 2
}
