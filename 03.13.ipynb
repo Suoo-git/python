{
 "cells": [
  {
   "cell_type": "code",
   "execution_count": null,
   "metadata": {},
   "outputs": [],
   "source": [
    "a = [{\"id\" : \"a001\", \"pw\" : \"pwa001\"},\n",
    "{\"id\" : \"b001\", \"pw\" : \"pwb001\"},\n",
    "{\"id\" : \"c001\", \"pw\" : \"pwc001\"}]\n",
    "\n",
    "for i in a:\n",
    "    print(i['id'], i['pw'])"
   ]
  }
 ],
 "metadata": {
  "language_info": {
   "name": "python"
  },
  "orig_nbformat": 4
 },
 "nbformat": 4,
 "nbformat_minor": 2
}
